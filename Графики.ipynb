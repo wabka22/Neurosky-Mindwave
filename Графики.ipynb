{
 "cells": [
  {
   "cell_type": "code",
   "execution_count": 24,
   "id": "6e493d6d-d87d-4f20-b727-181f893059e9",
   "metadata": {},
   "outputs": [
    {
     "name": "stdout",
     "output_type": "stream",
     "text": [
      "Retrieving data...\n",
      "Processor Closed!\n",
      "Connection Closed!\n"
     ]
    }
   ],
   "source": [
    "import time\n",
    "\n",
    "from neurosky import Connector, Processor\n",
    "\n",
    "connector = Connector(verbose=True)\n",
    "processor = Processor()\n",
    "\n",
    "connector.start()  # Start the connector thread, which will start the data stream.\n",
    "\n",
    "connector.data.subscribe(processor.add_data)\n",
    "processor.data.subscribe(print)\n",
    "\n",
    "time.sleep(10)\n",
    "processor.close()\n",
    "connector.close()\n"
   ]
  },
  {
   "cell_type": "code",
   "execution_count": null,
   "id": "d5a17c8a-a794-45a6-a2ac-000388915c1b",
   "metadata": {},
   "outputs": [],
   "source": []
  }
 ],
 "metadata": {
  "kernelspec": {
   "display_name": "Python 3 (ipykernel)",
   "language": "python",
   "name": "python3"
  },
  "language_info": {
   "codemirror_mode": {
    "name": "ipython",
    "version": 3
   },
   "file_extension": ".py",
   "mimetype": "text/x-python",
   "name": "python",
   "nbconvert_exporter": "python",
   "pygments_lexer": "ipython3",
   "version": "3.13.1"
  }
 },
 "nbformat": 4,
 "nbformat_minor": 5
}
